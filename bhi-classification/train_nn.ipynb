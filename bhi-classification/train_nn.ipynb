{
 "cells": [
  {
   "cell_type": "code",
   "execution_count": 1,
   "metadata": {},
   "outputs": [],
   "source": [
    "import numpy as np \n",
    "import torch \n",
    "import pandas as pd\n",
    "import torch.nn as nn\n",
    "from model import TextClassifier"
   ]
  },
  {
   "cell_type": "code",
   "execution_count": 2,
   "metadata": {},
   "outputs": [
    {
     "data": {
      "text/html": [
       "<div>\n",
       "<style scoped>\n",
       "    .dataframe tbody tr th:only-of-type {\n",
       "        vertical-align: middle;\n",
       "    }\n",
       "\n",
       "    .dataframe tbody tr th {\n",
       "        vertical-align: top;\n",
       "    }\n",
       "\n",
       "    .dataframe thead tr th {\n",
       "        text-align: left;\n",
       "    }\n",
       "\n",
       "    .dataframe thead tr:last-of-type th {\n",
       "        text-align: right;\n",
       "    }\n",
       "</style>\n",
       "<table border=\"1\" class=\"dataframe\">\n",
       "  <thead>\n",
       "    <tr>\n",
       "      <th></th>\n",
       "      <th colspan=\"4\" halign=\"left\">message</th>\n",
       "    </tr>\n",
       "    <tr>\n",
       "      <th></th>\n",
       "      <th>count</th>\n",
       "      <th>unique</th>\n",
       "      <th>top</th>\n",
       "      <th>freq</th>\n",
       "    </tr>\n",
       "    <tr>\n",
       "      <th>author</th>\n",
       "      <th></th>\n",
       "      <th></th>\n",
       "      <th></th>\n",
       "      <th></th>\n",
       "    </tr>\n",
       "  </thead>\n",
       "  <tbody>\n",
       "    <tr>\n",
       "      <th>0</th>\n",
       "      <td>29075</td>\n",
       "      <td>29075</td>\n",
       "      <td>Get here soon</td>\n",
       "      <td>1</td>\n",
       "    </tr>\n",
       "    <tr>\n",
       "      <th>1</th>\n",
       "      <td>29003</td>\n",
       "      <td>29003</td>\n",
       "      <td>Cool flex</td>\n",
       "      <td>1</td>\n",
       "    </tr>\n",
       "  </tbody>\n",
       "</table>\n",
       "</div>"
      ],
      "text/plain": [
       "       message                           \n",
       "         count unique            top freq\n",
       "author                                   \n",
       "0        29075  29075  Get here soon    1\n",
       "1        29003  29003      Cool flex    1"
      ]
     },
     "execution_count": 2,
     "metadata": {},
     "output_type": "execute_result"
    }
   ],
   "source": [
    "df = pd.read_csv('compiled_data.csv')\n",
    "\n",
    "i = df[df.author == 0].index\n",
    "\n",
    "df = df.drop(i[50200:])\n",
    "df = df.drop_duplicates()\n",
    "df.groupby('author').describe()"
   ]
  },
  {
   "cell_type": "code",
   "execution_count": 3,
   "metadata": {},
   "outputs": [
    {
     "data": {
      "text/plain": [
       "18284"
      ]
     },
     "execution_count": 3,
     "metadata": {},
     "output_type": "execute_result"
    }
   ],
   "source": [
    "from torchtext.data.utils import get_tokenizer\n",
    "from torchtext.vocab import build_vocab_from_iterator\n",
    "\n",
    "tokenizer = get_tokenizer('basic_english')\n",
    "\n",
    "vocab = build_vocab_from_iterator(map(tokenizer, df['message'].values.astype('U')), specials=[\"<unk>\"])\n",
    "vocab.set_default_index(vocab[\"<unk>\"])\n",
    "\n",
    "len(vocab.get_itos())\n",
    "\n",
    "\n",
    "\n"
   ]
  },
  {
   "cell_type": "code",
   "execution_count": 4,
   "metadata": {},
   "outputs": [],
   "source": [
    "from sklearn.feature_extraction.text import CountVectorizer\n",
    "from sklearn.model_selection import train_test_split\n",
    "\n",
    "vectorizer = CountVectorizer(vocabulary=vocab.get_itos(), tokenizer=tokenizer)\n",
    "x = torch.tensor(vectorizer.transform(df['message'].values.astype('U')).todense(), dtype=torch.float32)\n",
    "y = torch.tensor(df['author'].values, dtype=torch.float32)\n",
    "\n"
   ]
  },
  {
   "cell_type": "code",
   "execution_count": 5,
   "metadata": {},
   "outputs": [],
   "source": [
    "x_train, x_test, y_train, y_test = train_test_split(x, y, test_size=0.2, random_state=42)\n",
    "\n"
   ]
  },
  {
   "cell_type": "code",
   "execution_count": 6,
   "metadata": {},
   "outputs": [],
   "source": [
    "from sklearn.metrics import accuracy_score\n",
    "\n",
    "def TrainModel(model, optimizer, loss_fn, epochs, x_train, y_train):\n",
    "    for epoch in range(epochs):\n",
    "        losses = []\n",
    "        for x, y in zip(x_train, y_train):\n",
    "            y_preds = model(x)\n",
    "            # print(y_preds)\n",
    "            # print(y)\n",
    "            loss = loss_fn(y_preds.squeeze(), y)\n",
    "            losses.append(loss.item())\n",
    "\n",
    "            optimizer.zero_grad()\n",
    "            loss.backward()\n",
    "            optimizer.step()\n",
    "        print(\"Train Loss : {:.3f}\".format(torch.tensor(losses).mean()))\n",
    "        calc_loss_and_accuracy(model, x_test, y_test, loss_fn)\n",
    "\n",
    "def calc_loss_and_accuracy(model, x_test, y_test, loss_fn):\n",
    "    with torch.no_grad():\n",
    "        y_preds, y_actual = [], []\n",
    "        for x, y in zip(x_test, y_test):\n",
    "            pred = model(x)\n",
    "            binary_pred = torch.round(pred)\n",
    "            y_preds.append(binary_pred)\n",
    "            y_actual.append(y)\n",
    "        y_preds = torch.stack(y_preds)\n",
    "        y_actual = torch.stack(y_actual)\n",
    "        print(\"Valid Acc  : {:.3f}\".format(accuracy_score(y_actual.cpu().detach().numpy(), y_preds.cpu().detach().numpy())))\n",
    "\n",
    "\n",
    "\n"
   ]
  },
  {
   "cell_type": "code",
   "execution_count": 8,
   "metadata": {},
   "outputs": [
    {
     "name": "stdout",
     "output_type": "stream",
     "text": [
      "Train Loss : 0.598\n",
      "Valid Acc  : 0.680\n",
      "Train Loss : 0.531\n",
      "Valid Acc  : 0.690\n",
      "Train Loss : 0.508\n",
      "Valid Acc  : 0.695\n",
      "Train Loss : 0.491\n",
      "Valid Acc  : 0.696\n",
      "Train Loss : 0.474\n",
      "Valid Acc  : 0.694\n",
      "Train Loss : 0.456\n",
      "Valid Acc  : 0.696\n",
      "Train Loss : 0.433\n",
      "Valid Acc  : 0.698\n",
      "Train Loss : 0.411\n",
      "Valid Acc  : 0.698\n",
      "Train Loss : 0.389\n",
      "Valid Acc  : 0.697\n",
      "Train Loss : 0.366\n",
      "Valid Acc  : 0.698\n"
     ]
    }
   ],
   "source": [
    "from torch.optim import Adam\n",
    "\n",
    "\n",
    "x_train = x_train.to('cuda')\n",
    "y_train = y_train.to('cuda')\n",
    "\n",
    "x_test = x_test.to('cuda')\n",
    "y_test = y_test.to('cuda')\n",
    "\n",
    "epochs = 10\n",
    "lr = 1e-4\n",
    "model = TextClassifier(len(vocab.get_itos()))\n",
    "model.to('cuda')\n",
    "loss_fn = nn.BCELoss().to('cuda')\n",
    "optimizer = Adam(model.parameters(), lr=lr)\n",
    "\n",
    "TrainModel(model, optimizer, loss_fn, epochs, x_train, y_train)\n",
    "\n"
   ]
  },
  {
   "cell_type": "code",
   "execution_count": null,
   "metadata": {},
   "outputs": [],
   "source": [
    "y_preds, y_actual = [], []\n",
    "\n",
    "for x, y in zip(x_test, y_test):\n",
    "    pred = model(x)\n",
    "    binary_pred = torch.round(pred)\n",
    "    y_preds.append(binary_pred)\n",
    "    y_actual.append(y)\n"
   ]
  },
  {
   "cell_type": "code",
   "execution_count": null,
   "metadata": {},
   "outputs": [
    {
     "name": "stdout",
     "output_type": "stream",
     "text": [
      "Valid Acc  : 0.688\n"
     ]
    }
   ],
   "source": [
    "y_preds = torch.stack(y_preds)\n",
    "y_actual = torch.stack(y_actual)\n",
    "\n",
    "print(\"Valid Acc  : {:.3f}\".format(accuracy_score(y_actual.cpu().detach().numpy(), y_preds.cpu().detach().numpy())))"
   ]
  },
  {
   "cell_type": "code",
   "execution_count": null,
   "metadata": {},
   "outputs": [
    {
     "name": "stdout",
     "output_type": "stream",
     "text": [
      "tensor([[0.]], device='cuda:0', grad_fn=<RoundBackward0>)\n"
     ]
    }
   ],
   "source": [
    "text = \"and mf is asking about helldiver?\"\n",
    "print(model(torch.tensor(vectorizer.transform([text]).todense(), dtype=torch.float32).to('cuda')).round())"
   ]
  },
  {
   "cell_type": "code",
   "execution_count": null,
   "metadata": {},
   "outputs": [],
   "source": [
    "import pickle\n",
    "\n",
    "torch.save(model.state_dict(), 'model.pth')\n",
    "with open('vectorizer.pkl', 'wb') as f:\n",
    "    pickle.dump(vectorizer, f)\n",
    "\n",
    "with open('vocab.pkl', 'wb') as f:\n",
    "    pickle.dump(vocab.get_itos(), f)\n",
    "\n",
    "\n"
   ]
  }
 ],
 "metadata": {
  "kernelspec": {
   "display_name": ".venv",
   "language": "python",
   "name": "python3"
  },
  "language_info": {
   "codemirror_mode": {
    "name": "ipython",
    "version": 3
   },
   "file_extension": ".py",
   "mimetype": "text/x-python",
   "name": "python",
   "nbconvert_exporter": "python",
   "pygments_lexer": "ipython3",
   "version": "3.10.6"
  }
 },
 "nbformat": 4,
 "nbformat_minor": 2
}
