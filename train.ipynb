{
 "cells": [
  {
   "cell_type": "code",
   "execution_count": null,
   "metadata": {},
   "outputs": [],
   "source": [
    "model_name = \"teknium/OpenHermes-2.5-Mistral-7B\"\n",
    "max_seq_length = 2048\n",
    "learning_rate = 2e-4\n",
    "weight_decay = 0.01\n",
    "max_steps = 60\n",
    "warmup_steps = 10\n",
    "batch_size = 8\n",
    "gradient_accumulation_steps = 4\n",
    "lr_scheduler_type = \"linear\"\n",
    "optimizer = \"adamw_8bit\"\n",
    "use_gradient_checkpointing = True\n",
    "random_state = 3407"
   ]
  },
  {
   "cell_type": "code",
   "execution_count": null,
   "metadata": {},
   "outputs": [],
   "source": [
    "import torch\n",
    "from unsloth import FastLanguageModel\n",
    "\n",
    "max_seq_length = 2048\n",
    "dtype = torch.bfloat16 # None for auto detection. Float16 for Tesla T4, V100, Bfloat16 for Ampere+\n",
    "load_in_4bit = True # Use 4bit quantization to reduce memory usage. Can be False.\n",
    "HAS_BFLOAT16 = torch.cuda.is_bf16_supported()\n",
    "\n",
    "model, tokenizer = FastLanguageModel.from_pretrained(\n",
    "    model_name = model_name,\n",
    "    max_seq_length = max_seq_length,\n",
    "    dtype = dtype,\n",
    "    load_in_4bit = load_in_4bit,\n",
    "    device_map = \"auto\",\n",
    "    # token = \"hf_...\", # use one if using gated models like meta-llama/Llama-2-7b-hf\n",
    ")"
   ]
  },
  {
   "cell_type": "markdown",
   "metadata": {},
   "source": []
  },
  {
   "cell_type": "code",
   "execution_count": null,
   "metadata": {},
   "outputs": [],
   "source": [
    "model = FastLanguageModel.get_peft_model(\n",
    "    model,\n",
    "    r = 16,\n",
    "    target_modules = [\"q_proj\", \"k_proj\", \"v_proj\", \"o_proj\",\n",
    "                      \"gate_proj\", \"up_proj\", \"down_proj\",],\n",
    "    lora_alpha = 16,\n",
    "    lora_dropout = 0, # Currently only supports dropout = 0\n",
    "    bias = \"none\",    # Currently only supports bias = \"none\"\n",
    "    use_gradient_checkpointing = True,\n",
    "    random_state = 3407,\n",
    "    max_seq_length = max_seq_length,\n",
    ")"
   ]
  },
  {
   "cell_type": "code",
   "execution_count": null,
   "metadata": {},
   "outputs": [],
   "source": [
    "from datasets import load_dataset\n",
    "\n",
    "dataset = load_dataset(\"json\", data_files=\"data/cleaned_data.json\", field=\"data\", split=\"train\")\n",
    "\n"
   ]
  },
  {
   "cell_type": "code",
   "execution_count": null,
   "metadata": {},
   "outputs": [],
   "source": [
    "from trl import SFTTrainer\n",
    "from transformers import TrainingArguments\n",
    "from transformers.utils import logging\n",
    "logging.set_verbosity_info()\n",
    "\n",
    "trainer = SFTTrainer(\n",
    "    model = model,\n",
    "    train_dataset = dataset,\n",
    "    # dataset_text_field = \"content\",\n",
    "    max_seq_length = max_seq_length,\n",
    "    tokenizer = tokenizer,\n",
    "    args = TrainingArguments(\n",
    "        per_device_train_batch_size = batch_size,\n",
    "        gradient_accumulation_steps = gradient_accumulation_steps,\n",
    "        warmup_steps = warmup_steps,\n",
    "        num_train_epochs = 2,\n",
    "        learning_rate = learning_rate,\n",
    "        fp16 = not HAS_BFLOAT16,\n",
    "        bf16 = HAS_BFLOAT16,\n",
    "        logging_steps = 1,\n",
    "        output_dir = \"outputs\",\n",
    "        optim = optimizer,\n",
    "        weight_decay = weight_decay,\n",
    "        lr_scheduler_type = lr_scheduler_type,\n",
    "        seed = random_state,\n",
    "    ),\n",
    ")"
   ]
  },
  {
   "cell_type": "code",
   "execution_count": null,
   "metadata": {},
   "outputs": [],
   "source": [
    "gpu_stats = torch.cuda.get_device_properties(0)\n",
    "start_gpu_memory = round(torch.cuda.max_memory_reserved() / 1024 / 1024 / 1024, 3)\n",
    "max_memory = round(gpu_stats.total_memory / 1024 / 1024 / 1024, 3)\n",
    "print(f\"GPU = {gpu_stats.name}. Max memory = {max_memory} GB.\")\n",
    "print(f\"{start_gpu_memory} GB of memory reserved.\")"
   ]
  },
  {
   "cell_type": "code",
   "execution_count": null,
   "metadata": {},
   "outputs": [],
   "source": [
    "trainer_stats = trainer.train()"
   ]
  },
  {
   "cell_type": "code",
   "execution_count": null,
   "metadata": {},
   "outputs": [],
   "source": [
    "output_dir = \"outputs/test\"\n",
    "\n",
    "trainer.save_model(output_dir)\n",
    "trainer.save_state()\n",
    "torch.save(torch.cuda.random.get_rng_state_all(), f\"{output_dir}/rng_state.pth\")\n",
    "torch.save(trainer.optimizer.state_dict(), f\"{output_dir}/optimizer.pt\")\n",
    "torch.save(trainer.lr_scheduler.state_dict(), f\"{output_dir}/scheduler.pt\")\n",
    "\n"
   ]
  },
  {
   "cell_type": "code",
   "execution_count": null,
   "metadata": {},
   "outputs": [],
   "source": [
    "\n",
    "from torchsummary import summary\n",
    "\n",
    "print(model)\n",
    "\n",
    "summary(model, (max_seq_length))\n",
    "\n"
   ]
  },
  {
   "cell_type": "code",
   "execution_count": null,
   "metadata": {},
   "outputs": [],
   "source": [
    "from peft import PeftConfig, PeftModel\n",
    "from transformers import AutoModelForCausalLM, AutoTokenizer\n",
    "\n",
    "import torch\n",
    "\n",
    "base_model_name = \"teknium/OpenHermes-2.5-Mistral-7B\" #path/to/your/model/or/name/on/hub\"\n",
    "adapter_model_name = \"./peft/bmr\" #path/to/your/model/or/name/on/hub\n",
    "\n",
    "device_map = { 'lm_head': 0, 'model.embed_tokens': 0, 'model.norm.weight': 0}\n",
    "\n",
    "\n",
    "for i in range(32):\n",
    "    if i <= 16:\n",
    "        device_map[f\"model.layers.{i}\"] = 0\n",
    "    else:\n",
    "        device_map[f\"model.layers.{i}\"] = 'cpu'\n",
    "\n",
    "model = AutoModelForCausalLM.from_pretrained(base_model_name, device_map = device_map, torch_dtype=torch.float16, low_cpu_mem_usage=True) \n",
    "\n",
    "peft_map = {'base_model.model.lm_head': 'cpu', 'base_model.model.model.embed_tokens': 'cpu', 'base_model.model.model.norm.weight': 'cpu'}\n",
    "for i in range(32):\n",
    "        peft_map[f\"base_model.model.model.layers.{i}\"] = 'cpu'\n",
    "\n",
    "model = PeftModel.from_pretrained(model, adapter_model_name, device_map = peft_map)\n",
    "\n",
    "\n",
    "save_dir = 'OpenBhi-3.0-Mistral-7B'\n",
    "\n",
    "model = model.merge_and_unload()\n",
    "\n",
    "model.save_pretrained(save_dir)\n",
    "\n",
    "# Assuming you have already created the tokenizer\n",
    "tokenizer = AutoTokenizer.from_pretrained(base_model_name, trust_remote_code=True)\n",
    "\n",
    "\n",
    "# Save the tokenizer to a directory\n",
    "tokenizer.save_pretrained(save_dir)\n"
   ]
  },
  {
   "cell_type": "code",
   "execution_count": null,
   "metadata": {},
   "outputs": [],
   "source": [
    "# Assuming you have already created the tokenizer\n",
    "tokenizer = AutoTokenizer.from_pretrained(base_model_name, trust_remote_code=True)\n",
    "\n",
    "\n",
    "# Save the tokenizer to a directory\n",
    "tokenizer.save_pretrained(\"./\")"
   ]
  }
 ],
 "metadata": {
  "kernelspec": {
   "display_name": ".env",
   "language": "python",
   "name": "python3"
  },
  "language_info": {
   "codemirror_mode": {
    "name": "ipython",
    "version": 3
   },
   "file_extension": ".py",
   "mimetype": "text/x-python",
   "name": "python",
   "nbconvert_exporter": "python",
   "pygments_lexer": "ipython3",
   "version": "3.10.6"
  }
 },
 "nbformat": 4,
 "nbformat_minor": 2
}
